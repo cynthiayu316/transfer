{
 "cells": [
  {
   "cell_type": "code",
   "execution_count": 9,
   "metadata": {},
   "outputs": [],
   "source": [
    "import rawpy\n",
    "#import imageio\n",
    "import os\n",
    "import pandas as pd\n",
    "import numpy as np\n",
    "import matplotlib.pyplot as plt\n",
    "import seaborn as seabornInstance\n",
    "from sklearn.model_selection import train_test_split\n",
    "from sklearn.linear_model import LinearRegression\n",
    "from sklearn import metrics\n",
    "%matplotlib inline\n",
    "#import itertools\n"
   ]
  },
  {
   "cell_type": "code",
   "execution_count": 10,
   "metadata": {},
   "outputs": [],
   "source": [
    "# get all png or jpg image names under the folder including the subfolders\n",
    "# [in]\n",
    "#   folder:\n",
    "# [out]\n",
    "#   a list of image path of all images (png or jpg) under the folder\n",
    "def get_all_files(folder,reg=None):\n",
    "    all_images = []\n",
    "\n",
    "    for root, dirs, files in os.walk(folder):\n",
    "        if len(files) > 0:\n",
    "            image_paths = []\n",
    "            for name in files:\n",
    "                if name.find('.icloud') >=0:\n",
    "                    name = name[1:].replace('.icloud', '')\n",
    "                    if reg is None:\n",
    "                        if name.find('.dng') >= 0 or name.find('.jpg')>=0  or name.find('.tif') >= 0 or name.find('.npy') >= 0:\n",
    "                            \n",
    "                            if len(image_paths) == 0:\n",
    "                                image_paths.append(os.path.join(root, name))\n",
    "                                #image_paths.append(os.path.join('MIX3_benchmark/',name))\n",
    "                                #print(name)\n",
    "                            else:\n",
    "                                image_paths.append(os.path.join(root, name))\n",
    "                    else:\n",
    "                        if name.find(reg) >= 0:\n",
    "                            if len(image_paths) == 0:\n",
    "                                image_paths.append(os.path.join(root, name))\n",
    "                            else:\n",
    "                                image_paths.append(os.path.join(root, name))\n",
    "\n",
    "                else:\n",
    "                    if reg is None:\n",
    "                        if name.find('.dng') >= 0 or name.find('.jpg')>=0  or name.find('.tif') >= 0 or name.find('.npy') >= 0:\n",
    "                            \n",
    "                            if len(image_paths) == 0:\n",
    "                                image_paths.append(os.path.join(root, name))\n",
    "                                #print(name)\n",
    "                            else:\n",
    "                                image_paths.append(os.path.join(root, name))\n",
    "                    else:\n",
    "                        if name.find(reg) >= 0:\n",
    "                            if len(image_paths) == 0:\n",
    "                                image_paths.append(os.path.join(root, name))\n",
    "                            else:\n",
    "                                image_paths.append(os.path.join(root, name))\n",
    "\n",
    "\n",
    "            if len(all_images) == 0:\n",
    "                all_images = image_paths\n",
    "            else:\n",
    "                all_images = all_images + image_paths\n",
    "\n",
    "    return all_images\n"
   ]
  },
  {
   "cell_type": "code",
   "execution_count": 11,
   "metadata": {},
   "outputs": [],
   "source": [
    "all_images = get_all_files('/Users/yubinghong/Desktop/SENSE_TIME_denoise/MIX3_benchmark')\n",
    "#print(all_images)"
   ]
  },
  {
   "cell_type": "code",
   "execution_count": 12,
   "metadata": {},
   "outputs": [],
   "source": [
    "result = []\n",
    "def rawpy_convert(file):\n",
    "    for i in range(len(file)):\n",
    "        print(\"Working on \" + file[i])\n",
    "        raw = rawpy.imread(file[i])\n",
    "        #print(raw)\n",
    "        raw = raw.raw_image\n",
    "        result.append(raw)\n",
    "    return result"
   ]
  },
  {
   "cell_type": "code",
   "execution_count": 13,
   "metadata": {},
   "outputs": [
    {
     "name": "stdout",
     "output_type": "stream",
     "text": [
      "Working on /Users/yubinghong/Desktop/SENSE_TIME_denoise/MIX3_benchmark/mtroom_2000ms_800iso/2.19700107-060100-812.dng\n",
      "Working on /Users/yubinghong/Desktop/SENSE_TIME_denoise/MIX3_benchmark/mtroom_2000ms_800iso/9.19700107-060117-857.dng\n",
      "Working on /Users/yubinghong/Desktop/SENSE_TIME_denoise/MIX3_benchmark/mtroom_2000ms_800iso/6.19700107-060110-552.dng\n",
      "Working on /Users/yubinghong/Desktop/SENSE_TIME_denoise/MIX3_benchmark/mtroom_2000ms_800iso/7.19700107-060112-987.dng\n",
      "Working on /Users/yubinghong/Desktop/SENSE_TIME_denoise/MIX3_benchmark/mtroom_2000ms_800iso/1.19700107-060058-377.dng\n",
      "Working on /Users/yubinghong/Desktop/SENSE_TIME_denoise/MIX3_benchmark/mtroom_2000ms_800iso/4.19700107-060105-682.dng\n",
      "Working on /Users/yubinghong/Desktop/SENSE_TIME_denoise/MIX3_benchmark/mtroom_2000ms_800iso/8.19700107-060115-422.dng\n",
      "Working on /Users/yubinghong/Desktop/SENSE_TIME_denoise/MIX3_benchmark/mtroom_2000ms_800iso/3.19700107-060103-247.dng\n",
      "Working on /Users/yubinghong/Desktop/SENSE_TIME_denoise/MIX3_benchmark/mtroom_2000ms_800iso/10.19700107-060120-292.dng\n",
      "Working on /Users/yubinghong/Desktop/SENSE_TIME_denoise/MIX3_benchmark/mtroom_2000ms_800iso/5.19700107-060108-117.dng\n",
      "Working on /Users/yubinghong/Desktop/SENSE_TIME_denoise/MIX3_benchmark/mtroombright_16ms_200iso/6.19700108-022040-069.dng\n",
      "Working on /Users/yubinghong/Desktop/SENSE_TIME_denoise/MIX3_benchmark/mtroombright_16ms_200iso/1.19700108-022039-902.dng\n",
      "Working on /Users/yubinghong/Desktop/SENSE_TIME_denoise/MIX3_benchmark/mtroombright_16ms_200iso/5.19700108-022040-036.dng\n",
      "Working on /Users/yubinghong/Desktop/SENSE_TIME_denoise/MIX3_benchmark/mtroombright_16ms_200iso/9.19700108-022040-169.dng\n",
      "Working on /Users/yubinghong/Desktop/SENSE_TIME_denoise/MIX3_benchmark/mtroombright_16ms_200iso/4.19700108-022040-002.dng\n",
      "Working on /Users/yubinghong/Desktop/SENSE_TIME_denoise/MIX3_benchmark/mtroombright_16ms_200iso/3.19700108-022039-969.dng\n",
      "Working on /Users/yubinghong/Desktop/SENSE_TIME_denoise/MIX3_benchmark/mtroombright_16ms_200iso/7.19700108-022040-102.dng\n",
      "Working on /Users/yubinghong/Desktop/SENSE_TIME_denoise/MIX3_benchmark/mtroombright_16ms_200iso/2.19700108-022039-936.dng\n",
      "Working on /Users/yubinghong/Desktop/SENSE_TIME_denoise/MIX3_benchmark/mtroombright_16ms_200iso/8.19700108-022040-136.dng\n",
      "Working on /Users/yubinghong/Desktop/SENSE_TIME_denoise/MIX3_benchmark/mtroombright_16ms_200iso/10.19700108-022040-202.dng\n",
      "Working on /Users/yubinghong/Desktop/SENSE_TIME_denoise/MIX3_benchmark/indoor6_500ms_1600iso/1.19700206-021207-799.dng\n",
      "Working on /Users/yubinghong/Desktop/SENSE_TIME_denoise/MIX3_benchmark/indoor6_500ms_1600iso/8.19700206-021211-300.dng\n",
      "Working on /Users/yubinghong/Desktop/SENSE_TIME_denoise/MIX3_benchmark/indoor6_500ms_1600iso/9.19700206-021211-800.dng\n",
      "Working on /Users/yubinghong/Desktop/SENSE_TIME_denoise/MIX3_benchmark/indoor6_500ms_1600iso/4.19700206-021209-299.dng\n",
      "Working on /Users/yubinghong/Desktop/SENSE_TIME_denoise/MIX3_benchmark/indoor6_500ms_1600iso/3.19700206-021208-799.dng\n",
      "Working on /Users/yubinghong/Desktop/SENSE_TIME_denoise/MIX3_benchmark/indoor6_500ms_1600iso/6.19700206-021210-300.dng\n",
      "Working on /Users/yubinghong/Desktop/SENSE_TIME_denoise/MIX3_benchmark/indoor6_500ms_1600iso/10.19700206-021212-300.dng\n",
      "Working on /Users/yubinghong/Desktop/SENSE_TIME_denoise/MIX3_benchmark/indoor6_500ms_1600iso/5.19700206-021209-799.dng\n",
      "Working on /Users/yubinghong/Desktop/SENSE_TIME_denoise/MIX3_benchmark/indoor6_500ms_1600iso/2.19700206-021208-299.dng\n",
      "Working on /Users/yubinghong/Desktop/SENSE_TIME_denoise/MIX3_benchmark/indoor6_500ms_1600iso/7.19700206-021210-800.dng\n",
      "Working on /Users/yubinghong/Desktop/SENSE_TIME_denoise/MIX3_benchmark/mtroombright_1ms_3200iso/6.19700108-021909-404.dng\n",
      "Working on /Users/yubinghong/Desktop/SENSE_TIME_denoise/MIX3_benchmark/mtroombright_1ms_3200iso/9.19700108-021909-504.dng\n",
      "Working on /Users/yubinghong/Desktop/SENSE_TIME_denoise/MIX3_benchmark/mtroombright_1ms_3200iso/5.19700108-021909-371.dng\n",
      "Working on /Users/yubinghong/Desktop/SENSE_TIME_denoise/MIX3_benchmark/mtroombright_1ms_3200iso/4.19700108-021909-337.dng\n",
      "Working on /Users/yubinghong/Desktop/SENSE_TIME_denoise/MIX3_benchmark/mtroombright_1ms_3200iso/7.19700108-021909-437.dng\n",
      "Working on /Users/yubinghong/Desktop/SENSE_TIME_denoise/MIX3_benchmark/mtroombright_1ms_3200iso/2.19700108-021909-271.dng\n",
      "Working on /Users/yubinghong/Desktop/SENSE_TIME_denoise/MIX3_benchmark/mtroombright_1ms_3200iso/1.19700108-021909-237.dng\n",
      "Working on /Users/yubinghong/Desktop/SENSE_TIME_denoise/MIX3_benchmark/mtroombright_1ms_3200iso/10.19700108-021909-537.dng\n",
      "Working on /Users/yubinghong/Desktop/SENSE_TIME_denoise/MIX3_benchmark/mtroombright_1ms_3200iso/8.19700108-021909-471.dng\n",
      "Working on /Users/yubinghong/Desktop/SENSE_TIME_denoise/MIX3_benchmark/mtroombright_1ms_3200iso/3.19700108-021909-304.dng\n",
      "Working on /Users/yubinghong/Desktop/SENSE_TIME_denoise/MIX3_benchmark/lane2_400ms_800iso/3.19700118-083325-973.dng\n",
      "Working on /Users/yubinghong/Desktop/SENSE_TIME_denoise/MIX3_benchmark/lane2_400ms_800iso/1.19700118-083325-173.dng\n",
      "Working on /Users/yubinghong/Desktop/SENSE_TIME_denoise/MIX3_benchmark/lane2_400ms_800iso/2.19700118-083325-573.dng\n",
      "Working on /Users/yubinghong/Desktop/SENSE_TIME_denoise/MIX3_benchmark/lane2_400ms_800iso/8.19700118-083327-974.dng\n",
      "Working on /Users/yubinghong/Desktop/SENSE_TIME_denoise/MIX3_benchmark/lane2_400ms_800iso/5.19700118-083326-774.dng\n",
      "Working on /Users/yubinghong/Desktop/SENSE_TIME_denoise/MIX3_benchmark/lane2_400ms_800iso/7.19700118-083327-574.dng\n",
      "Working on /Users/yubinghong/Desktop/SENSE_TIME_denoise/MIX3_benchmark/lane2_400ms_800iso/10.19700118-083328-775.dng\n",
      "Working on /Users/yubinghong/Desktop/SENSE_TIME_denoise/MIX3_benchmark/lane2_400ms_800iso/4.19700118-083326-374.dng\n",
      "Working on /Users/yubinghong/Desktop/SENSE_TIME_denoise/MIX3_benchmark/indoor7_256ms_100iso/1.19700112-221655-360.dng\n",
      "Working on /Users/yubinghong/Desktop/SENSE_TIME_denoise/MIX3_benchmark/indoor7_256ms_100iso/10.19700112-221657-666.dng\n",
      "Working on /Users/yubinghong/Desktop/SENSE_TIME_denoise/MIX3_benchmark/indoor7_256ms_100iso/2.19700112-221655-616.dng\n",
      "Working on /Users/yubinghong/Desktop/SENSE_TIME_denoise/MIX3_benchmark/indoor7_256ms_100iso/3.19700112-221655-872.dng\n",
      "Working on /Users/yubinghong/Desktop/SENSE_TIME_denoise/MIX3_benchmark/indoor7_256ms_100iso/8.19700112-221657-153.dng\n",
      "Working on /Users/yubinghong/Desktop/SENSE_TIME_denoise/MIX3_benchmark/indoor7_256ms_100iso/4.19700112-221656-128.dng\n",
      "Working on /Users/yubinghong/Desktop/SENSE_TIME_denoise/MIX3_benchmark/indoor7_256ms_100iso/5.19700112-221656-385.dng\n",
      "Working on /Users/yubinghong/Desktop/SENSE_TIME_denoise/MIX3_benchmark/indoor7_256ms_100iso/6.19700112-221656-641.dng\n",
      "Working on /Users/yubinghong/Desktop/SENSE_TIME_denoise/MIX3_benchmark/indoor7_256ms_100iso/9.19700112-221657-409.dng\n",
      "Working on /Users/yubinghong/Desktop/SENSE_TIME_denoise/MIX3_benchmark/indoor7_256ms_100iso/7.19700112-221656-897.dng\n",
      "Working on /Users/yubinghong/Desktop/SENSE_TIME_denoise/MIX3_benchmark/room_400ms_1600iso/10.19700108-033223-920.dng\n",
      "Working on /Users/yubinghong/Desktop/SENSE_TIME_denoise/MIX3_benchmark/room_400ms_1600iso/8.19700108-033223-120.dng\n",
      "Working on /Users/yubinghong/Desktop/SENSE_TIME_denoise/MIX3_benchmark/room_400ms_1600iso/4.19700108-033221-519.dng\n",
      "Working on /Users/yubinghong/Desktop/SENSE_TIME_denoise/MIX3_benchmark/room_400ms_1600iso/7.19700108-033222-719.dng\n",
      "Working on /Users/yubinghong/Desktop/SENSE_TIME_denoise/MIX3_benchmark/room_400ms_1600iso/5.19700108-033221-919.dng\n",
      "Working on /Users/yubinghong/Desktop/SENSE_TIME_denoise/MIX3_benchmark/room_400ms_1600iso/3.19700108-033221-119.dng\n",
      "Working on /Users/yubinghong/Desktop/SENSE_TIME_denoise/MIX3_benchmark/room_400ms_1600iso/9.19700108-033223-520.dng\n",
      "Working on /Users/yubinghong/Desktop/SENSE_TIME_denoise/MIX3_benchmark/room_400ms_1600iso/1.19700108-033220-318.dng\n",
      "Working on /Users/yubinghong/Desktop/SENSE_TIME_denoise/MIX3_benchmark/room_400ms_1600iso/6.19700108-033222-319.dng\n",
      "Working on /Users/yubinghong/Desktop/SENSE_TIME_denoise/MIX3_benchmark/room_400ms_1600iso/2.19700108-033220-718.dng\n",
      "Working on /Users/yubinghong/Desktop/SENSE_TIME_denoise/MIX3_benchmark/indoor6_1000ms_800iso/4.19700206-021252-709.dng\n",
      "Working on /Users/yubinghong/Desktop/SENSE_TIME_denoise/MIX3_benchmark/indoor6_1000ms_800iso/6.19700206-021254-709.dng\n"
     ]
    },
    {
     "ename": "LibRawIOError",
     "evalue": "b'Input/output error'",
     "output_type": "error",
     "traceback": [
      "\u001b[0;31m---------------------------------------------------------------------------\u001b[0m",
      "\u001b[0;31mLibRawIOError\u001b[0m                             Traceback (most recent call last)",
      "\u001b[0;32m<ipython-input-13-7a16f9c4963c>\u001b[0m in \u001b[0;36m<module>\u001b[0;34m\u001b[0m\n\u001b[0;32m----> 1\u001b[0;31m \u001b[0mrawpy_convert\u001b[0m\u001b[0;34m(\u001b[0m\u001b[0mall_images\u001b[0m\u001b[0;34m)\u001b[0m\u001b[0;34m\u001b[0m\u001b[0;34m\u001b[0m\u001b[0m\n\u001b[0m",
      "\u001b[0;32m<ipython-input-12-4d22f7ac76fb>\u001b[0m in \u001b[0;36mrawpy_convert\u001b[0;34m(file)\u001b[0m\n\u001b[1;32m      3\u001b[0m     \u001b[0;32mfor\u001b[0m \u001b[0mi\u001b[0m \u001b[0;32min\u001b[0m \u001b[0mrange\u001b[0m\u001b[0;34m(\u001b[0m\u001b[0mlen\u001b[0m\u001b[0;34m(\u001b[0m\u001b[0mfile\u001b[0m\u001b[0;34m)\u001b[0m\u001b[0;34m)\u001b[0m\u001b[0;34m:\u001b[0m\u001b[0;34m\u001b[0m\u001b[0;34m\u001b[0m\u001b[0m\n\u001b[1;32m      4\u001b[0m         \u001b[0mprint\u001b[0m\u001b[0;34m(\u001b[0m\u001b[0;34m\"Working on \"\u001b[0m \u001b[0;34m+\u001b[0m \u001b[0mfile\u001b[0m\u001b[0;34m[\u001b[0m\u001b[0mi\u001b[0m\u001b[0;34m]\u001b[0m\u001b[0;34m)\u001b[0m\u001b[0;34m\u001b[0m\u001b[0;34m\u001b[0m\u001b[0m\n\u001b[0;32m----> 5\u001b[0;31m         \u001b[0mraw\u001b[0m \u001b[0;34m=\u001b[0m \u001b[0mrawpy\u001b[0m\u001b[0;34m.\u001b[0m\u001b[0mimread\u001b[0m\u001b[0;34m(\u001b[0m\u001b[0mfile\u001b[0m\u001b[0;34m[\u001b[0m\u001b[0mi\u001b[0m\u001b[0;34m]\u001b[0m\u001b[0;34m)\u001b[0m\u001b[0;34m\u001b[0m\u001b[0;34m\u001b[0m\u001b[0m\n\u001b[0m\u001b[1;32m      6\u001b[0m         \u001b[0;31m#print(raw)\u001b[0m\u001b[0;34m\u001b[0m\u001b[0;34m\u001b[0m\u001b[0;34m\u001b[0m\u001b[0m\n\u001b[1;32m      7\u001b[0m         \u001b[0mraw\u001b[0m \u001b[0;34m=\u001b[0m \u001b[0mraw\u001b[0m\u001b[0;34m.\u001b[0m\u001b[0mraw_image\u001b[0m\u001b[0;34m\u001b[0m\u001b[0;34m\u001b[0m\u001b[0m\n",
      "\u001b[0;32m~/anaconda3/lib/python3.7/site-packages/rawpy/__init__.py\u001b[0m in \u001b[0;36mimread\u001b[0;34m(pathOrFile)\u001b[0m\n\u001b[1;32m     18\u001b[0m         \u001b[0md\u001b[0m\u001b[0;34m.\u001b[0m\u001b[0mopen_buffer\u001b[0m\u001b[0;34m(\u001b[0m\u001b[0mpathOrFile\u001b[0m\u001b[0;34m)\u001b[0m\u001b[0;34m\u001b[0m\u001b[0;34m\u001b[0m\u001b[0m\n\u001b[1;32m     19\u001b[0m     \u001b[0;32melse\u001b[0m\u001b[0;34m:\u001b[0m\u001b[0;34m\u001b[0m\u001b[0;34m\u001b[0m\u001b[0m\n\u001b[0;32m---> 20\u001b[0;31m         \u001b[0md\u001b[0m\u001b[0;34m.\u001b[0m\u001b[0mopen_file\u001b[0m\u001b[0;34m(\u001b[0m\u001b[0mpathOrFile\u001b[0m\u001b[0;34m)\u001b[0m\u001b[0;34m\u001b[0m\u001b[0;34m\u001b[0m\u001b[0m\n\u001b[0m\u001b[1;32m     21\u001b[0m     \u001b[0;32mreturn\u001b[0m \u001b[0md\u001b[0m\u001b[0;34m\u001b[0m\u001b[0;34m\u001b[0m\u001b[0m\n",
      "\u001b[0;32mrawpy/_rawpy.pyx\u001b[0m in \u001b[0;36mrawpy._rawpy.RawPy.open_file\u001b[0;34m()\u001b[0m\n",
      "\u001b[0;32mrawpy/_rawpy.pyx\u001b[0m in \u001b[0;36mrawpy._rawpy.RawPy.handle_error\u001b[0;34m()\u001b[0m\n",
      "\u001b[0;31mLibRawIOError\u001b[0m: b'Input/output error'"
     ]
    }
   ],
   "source": [
    "rawpy_convert(all_images)"
   ]
  },
  {
   "cell_type": "code",
   "execution_count": null,
   "metadata": {},
   "outputs": [],
   "source": [
    "myDNG = []\n",
    "for root, directories, filenames in os.walk('/Users/yubinghong/Desktop/SENSE_TIME_denoise/MIX3_benchmark/indoor6_8000ms_100iso'):\n",
    "    print(\"Total Count of Files: \" + str(len(filenames)))\n",
    "    dngCount = 0\n",
    "    for filename in filenames:\n",
    "        if filename.endswith(\".dng\"):\n",
    "            path = str(root)+'/'+str(filename)\n",
    "            myDNG.append(path)\n",
    "            dngCount += 1\n",
    "\n",
    "print(\"Total Count of DNG Files: \" + str(dngCount))\n"
   ]
  },
  {
   "cell_type": "code",
   "execution_count": null,
   "metadata": {},
   "outputs": [],
   "source": [
    "print(str(all_images[0]))\n",
    "result = []\n",
    "#print(\"Total Count of DNG Files: \" + str(dngCount))\n",
    "#result = []\n",
    "for i in range(len(myDNG)):\n",
    "    print(\"Working on \" + str(myDNG[i]))\n",
    "    raw = rawpy.imread(str(myDNG[i]))\n",
    "    raw = raw.raw_image\n",
    "    result.append(raw)"
   ]
  },
  {
   "cell_type": "markdown",
   "metadata": {},
   "source": [
    "# iso 3200"
   ]
  },
  {
   "cell_type": "code",
   "execution_count": null,
   "metadata": {},
   "outputs": [],
   "source": [
    "myDNG = [] #calculate same pixel\n",
    "for root, directories, filenames in os.walk('/Users/yubinghong/Desktop/SENSE_TIME_denoise/MIX3_benchmark/'):\n",
    "    print(\"Total Count of Files: \" + str(len(filenames)))\n",
    "    dngCount = 0\n",
    "    for filename in filenames:\n",
    "        if filename.endswith(\".dng\"):\n",
    "            path = str(root)+'/'+str(filename)\n",
    "            myDNG.append(path)\n",
    "            dngCount += 1\n",
    "\n",
    "print(\"Total Count of DNG Files: \" + str(dngCount))\n",
    "\n",
    "result = []\n",
    "if dngCount == 0:\n",
    "    print(\"No DNG files to convert, exiting...\")\n",
    "    exit()\n",
    "else:\n",
    "    for i in range(len(myDNG)):\n",
    "        #print(\"Working on \" + str(myDNG[i]))\n",
    "        raw = rawpy.imread(str(myDNG[i]))\n",
    "        raw = raw.raw_image\n",
    "        #print(raw)\n",
    "        result.append(raw)\n",
    "        #rgb = raw.postprocess() no three channel\n",
    "        #result.append(rgb)#((filename, rgb))"
   ]
  },
  {
   "cell_type": "markdown",
   "metadata": {},
   "source": [
    "# compute variance and mean for same iso setting"
   ]
  },
  {
   "cell_type": "code",
   "execution_count": null,
   "metadata": {},
   "outputs": [],
   "source": [
    "# image = []\n",
    "# for i in range(10):\n",
    "#     image[i] = result[i]\n",
    "#     print(image[i])\n",
    "#print(\"Working on \" + filename)\n",
    "\n",
    "# for i in range(10):\n",
    "#     image = np.array(result[i])\n",
    "#     print(image)\n",
    "#     avg = [sum(col) / 3024 for col in zip(*image)]\n",
    "#     print(avg)\n",
    "\n",
    "result = np.array(result)\n",
    "#image = result[0]\n",
    "#print(image.shape)\n",
    "#image_1 = result[1]\n",
    "average = np.average(result,axis = 0)\n",
    "print(average.shape)\n",
    "variance = np.var(result,axis = 0)\n",
    "#print(average)\n",
    "print(variance.shape)"
   ]
  },
  {
   "cell_type": "code",
   "execution_count": null,
   "metadata": {},
   "outputs": [],
   "source": [
    "\n",
    "# print(image)\n",
    "# image_in = image[0]\n",
    "# print(image_in)\n",
    "# pixel = image_in[0]\n",
    "# print(pixel)\n",
    "\n",
    "# image = []\n",
    "# images = {}\n",
    "# image_in = []\n",
    "# image_ins = {}\n",
    "# pixel = []\n",
    "# pixels = {}\n",
    "# for i in range(len(result)):\n",
    "#     image = result[i]\n",
    "#     images = {str(filename):image}\n",
    "#     for j in range(len(image)):\n",
    "#         image_in = image[j]\n",
    "#         image_ins = {j: image_in}\n",
    "#         print(len(image_in))\n",
    "#         for k in range(len(image_in)):\n",
    "#             pixel = image_in[k]\n",
    "#             pixels = {k: pixel}\n",
    "#             print(pixels)\n",
    "\n",
    "#\n",
    "# same_key = [, ] #same key\n",
    "# d = {}\n",
    "# for k in same_key.keys():\n",
    "#   d[k] = np.concatenate(list(d[k] for d in same_key))"
   ]
  },
  {
   "cell_type": "code",
   "execution_count": null,
   "metadata": {},
   "outputs": [],
   "source": [
    "# no_dupes = [x for n, x in enumerate(average) if x not in average[:n]]\n",
    "# print(no_dupes)\n",
    "\n",
    "# dupes = [x for n, x in enumerate(average) if x in average[:n]]\n",
    "# print(dupes)"
   ]
  },
  {
   "cell_type": "code",
   "execution_count": null,
   "metadata": {},
   "outputs": [],
   "source": [
    "#np.var\n",
    "#dataset = pd.read_csv('/Users/nageshsinghchauhan/Documents/projects/ML/ML_BLOG_LInearRegression/Weather.csv')\n",
    "# def flat(l):\n",
    "#     for k in l:\n",
    "#         if not isinstance(k, (list, tuple)):\n",
    "#             yield k\n",
    "#         else:\n",
    "#             yield from flat(k)\n",
    "\n",
    "for i in range(len(average)):\n",
    "    x = average[i]\n",
    "    #print(x)\n",
    "    #x = np.concatenate(x)\n",
    "    avg = pd.DataFrame(data = x)\n",
    "for i in range(len(variance)):\n",
    "    y = variance[i]\n",
    "    #print(y)\n",
    "    #y = np.concatenate(y)\n",
    "    var = pd.DataFrame(data = y)\n",
    "    \n",
    "x = avg.values.reshape(-1,1)\n",
    "y = var.values.reshape(-1,1)\n",
    "\n",
    "# x = sum(average,[])\n",
    "# print(x)\n",
    "\n",
    "# x = list(itertools.chain.from_iterable(average))\n",
    "# print(x)"
   ]
  },
  {
   "cell_type": "code",
   "execution_count": null,
   "metadata": {},
   "outputs": [],
   "source": [
    "plt.scatter(x, y,  color='gray', s = 0.5)\n",
    "plt.title('mean vs variance')\n",
    "plt.xlabel('mean')\n",
    "plt.ylabel('variance')\n",
    "plt.show()"
   ]
  },
  {
   "cell_type": "code",
   "execution_count": null,
   "metadata": {},
   "outputs": [],
   "source": [
    "x_train, x_test, y_train, y_test = train_test_split(x, y, test_size=0.2, random_state=0)\n",
    "regressor = LinearRegression()\n",
    "regressor.fit(x_train, y_train)\n",
    "score = regressor.score(x,y)\n",
    "print('score is', score)\n",
    "print(regressor.intercept_)\n",
    "print(regressor.coef_)\n",
    "sigma = regressor.intercept_ \n",
    "k = regressor.coef_\n",
    "#var = k*mean + sigma^2"
   ]
  },
  {
   "cell_type": "code",
   "execution_count": null,
   "metadata": {},
   "outputs": [],
   "source": [
    "y_pred = regressor.predict(x_test)"
   ]
  },
  {
   "cell_type": "code",
   "execution_count": null,
   "metadata": {},
   "outputs": [],
   "source": [
    "plt.scatter(x_test, y_test,  color='gray',s = 1)\n",
    "plt.plot(x_test, y_pred, color='red', linewidth=2)\n",
    "plt.title('mean vs variance_test')\n",
    "plt.xlabel('mean')\n",
    "plt.ylabel('variance')\n",
    "plt.show()"
   ]
  },
  {
   "cell_type": "markdown",
   "metadata": {},
   "source": [
    "# iso 100"
   ]
  },
  {
   "cell_type": "code",
   "execution_count": 12,
   "metadata": {},
   "outputs": [],
   "source": [
    "myDNG = []\n",
    "def read_img(path):\n",
    "    for root, directories, filenames in os.walk('/Users/yubinghong/Desktop/SENSE_TIME_denoise/MIX3_benchmark/mtroom_2000ms_800iso'):\n",
    "        print(\"Total Count of Files: \" + str(len(filenames)))\n",
    "        dngCount = 0\n",
    "        for filename in filenames:\n",
    "            if filename.endswith(\".dng\"):\n",
    "                path = str(root)+'/'+str(filename)\n",
    "                myDNG.append(path)\n",
    "                #print(path)\n",
    "                dngCount += 1\n",
    "                #print(myDNG)\n",
    "\n",
    "    print(\"Total Count of DNG Files: \" + str(dngCount))\n",
    "\n",
    "    result = []\n",
    "    if dngCount == 0:\n",
    "        print(\"No DNG files to convert, exiting...\")\n",
    "        exit()\n",
    "    else:\n",
    "        for i in range(len(myDNG)):\n",
    "            #print(\"Working on \" + str(myDNG[i]))\n",
    "            raw = rawpy.imread(str(myDNG[i]))\n",
    "            raw = raw.raw_image\n",
    "            result.append(raw)"
   ]
  },
  {
   "cell_type": "code",
   "execution_count": null,
   "metadata": {},
   "outputs": [],
   "source": [
    "for root, directories, filenames in os.walk('/Users/yubinghong/Desktop/SENSE_TIME_denoise/MIX3_benchmark/mtroom_2000ms_800iso'):\n",
    "    print(\"Total Count of Files: \" + str(len(filenames)))\n",
    "    dngCount = 0\n",
    "    for filename in filenames:\n",
    "        if filename.endswith(\".dng\"):\n",
    "            path = str(root)+'/'+str(filename)\n",
    "            myDNG.append(path)\n",
    "            #print(path)\n",
    "            dngCount += 1\n",
    "            #print(myDNG)\n",
    "\n",
    "print(\"Total Count of DNG Files: \" + str(dngCount))\n",
    "\n",
    "result = []\n",
    "if dngCount == 0:\n",
    "    print(\"No DNG files to convert, exiting...\")\n",
    "    exit()\n",
    "else:\n",
    "    for i in range(len(myDNG)):\n",
    "        #print(\"Working on \" + str(myDNG[i]))\n",
    "        raw = rawpy.imread(str(myDNG[i]))\n",
    "        raw = raw.raw_image\n",
    "        result.append(raw)"
   ]
  },
  {
   "cell_type": "code",
   "execution_count": 13,
   "metadata": {},
   "outputs": [
    {
     "name": "stdout",
     "output_type": "stream",
     "text": [
      "Total Count of Files: 10\n",
      "Total Count of DNG Files: 0\n",
      "No DNG files to convert, exiting...\n"
     ]
    }
   ],
   "source": [
    "read_img('/Users/yubinghong/Desktop/SENSE_TIME_denoise/MIX3_benchmark/mtroom_2000ms_800iso')"
   ]
  },
  {
   "cell_type": "code",
   "execution_count": null,
   "metadata": {},
   "outputs": [],
   "source": [
    "all_images = get_all_files('/Users/yubinghong/Desktop/SENSE_TIME_denoise/MIX3_benchmark')\n",
    "print(all_images[0])\n",
    "print(myDNG[0])\n",
    "print(all_images[0] == myDNG[0])"
   ]
  },
  {
   "cell_type": "code",
   "execution_count": 8,
   "metadata": {},
   "outputs": [
    {
     "ename": "NameError",
     "evalue": "name 'all_images' is not defined",
     "output_type": "error",
     "traceback": [
      "\u001b[0;31m---------------------------------------------------------------------------\u001b[0m",
      "\u001b[0;31mNameError\u001b[0m                                 Traceback (most recent call last)",
      "\u001b[0;32m<ipython-input-8-2a173d8ef52c>\u001b[0m in \u001b[0;36m<module>\u001b[0;34m\u001b[0m\n\u001b[0;32m----> 1\u001b[0;31m \u001b[0mprint\u001b[0m\u001b[0;34m(\u001b[0m\u001b[0mall_images\u001b[0m\u001b[0;34m[\u001b[0m\u001b[0;36m0\u001b[0m\u001b[0;34m]\u001b[0m \u001b[0;34m==\u001b[0m \u001b[0mmyDNG\u001b[0m\u001b[0;34m[\u001b[0m\u001b[0;36m0\u001b[0m\u001b[0;34m]\u001b[0m\u001b[0;34m)\u001b[0m\u001b[0;34m\u001b[0m\u001b[0;34m\u001b[0m\u001b[0m\n\u001b[0m",
      "\u001b[0;31mNameError\u001b[0m: name 'all_images' is not defined"
     ]
    }
   ],
   "source": [
    "print(all_images[0] == myDNG[0])"
   ]
  },
  {
   "cell_type": "code",
   "execution_count": 5,
   "metadata": {},
   "outputs": [],
   "source": [
    "def avg_var(result):\n",
    "    result = np.array(result)\n",
    "    average = np.average(result,axis = 0)\n",
    "    print(average.shape)\n",
    "    variance = np.var(result,axis = 0)\n",
    "    print(variance.shape)"
   ]
  },
  {
   "cell_type": "code",
   "execution_count": 6,
   "metadata": {},
   "outputs": [
    {
     "ename": "NameError",
     "evalue": "name 'average' is not defined",
     "output_type": "error",
     "traceback": [
      "\u001b[0;31m---------------------------------------------------------------------------\u001b[0m",
      "\u001b[0;31mNameError\u001b[0m                                 Traceback (most recent call last)",
      "\u001b[0;32m<ipython-input-6-f8f7e3259c31>\u001b[0m in \u001b[0;36m<module>\u001b[0;34m\u001b[0m\n\u001b[0;32m----> 1\u001b[0;31m \u001b[0;32mfor\u001b[0m \u001b[0mi\u001b[0m \u001b[0;32min\u001b[0m \u001b[0mrange\u001b[0m\u001b[0;34m(\u001b[0m\u001b[0mlen\u001b[0m\u001b[0;34m(\u001b[0m\u001b[0maverage\u001b[0m\u001b[0;34m)\u001b[0m\u001b[0;34m)\u001b[0m\u001b[0;34m:\u001b[0m\u001b[0;34m\u001b[0m\u001b[0;34m\u001b[0m\u001b[0m\n\u001b[0m\u001b[1;32m      2\u001b[0m     \u001b[0mx\u001b[0m \u001b[0;34m=\u001b[0m \u001b[0maverage\u001b[0m\u001b[0;34m[\u001b[0m\u001b[0mi\u001b[0m\u001b[0;34m]\u001b[0m\u001b[0;34m\u001b[0m\u001b[0;34m\u001b[0m\u001b[0m\n\u001b[1;32m      3\u001b[0m     \u001b[0;31m#print(x)\u001b[0m\u001b[0;34m\u001b[0m\u001b[0;34m\u001b[0m\u001b[0;34m\u001b[0m\u001b[0m\n\u001b[1;32m      4\u001b[0m     \u001b[0;31m#x = np.concatenate(x)\u001b[0m\u001b[0;34m\u001b[0m\u001b[0;34m\u001b[0m\u001b[0;34m\u001b[0m\u001b[0m\n\u001b[1;32m      5\u001b[0m     \u001b[0mavg\u001b[0m \u001b[0;34m=\u001b[0m \u001b[0mpd\u001b[0m\u001b[0;34m.\u001b[0m\u001b[0mDataFrame\u001b[0m\u001b[0;34m(\u001b[0m\u001b[0mdata\u001b[0m \u001b[0;34m=\u001b[0m \u001b[0mx\u001b[0m\u001b[0;34m)\u001b[0m\u001b[0;34m\u001b[0m\u001b[0;34m\u001b[0m\u001b[0m\n",
      "\u001b[0;31mNameError\u001b[0m: name 'average' is not defined"
     ]
    }
   ],
   "source": [
    "\n",
    "for i in range(len(average)):\n",
    "    x = average[i]\n",
    "    #print(x)\n",
    "    #x = np.concatenate(x)\n",
    "    avg = pd.DataFrame(data = x)\n",
    "for i in range(len(variance)):\n",
    "    y = variance[i]\n",
    "    #print(y)\n",
    "    #y = np.concatenate(y)\n",
    "    var = pd.DataFrame(data = y)\n",
    "    \n",
    "x = avg.values.reshape(-1,1)\n",
    "y = var.values.reshape(-1,1)\n"
   ]
  },
  {
   "cell_type": "code",
   "execution_count": 7,
   "metadata": {},
   "outputs": [
    {
     "ename": "NameError",
     "evalue": "name 'plt' is not defined",
     "output_type": "error",
     "traceback": [
      "\u001b[0;31m---------------------------------------------------------------------------\u001b[0m",
      "\u001b[0;31mNameError\u001b[0m                                 Traceback (most recent call last)",
      "\u001b[0;32m<ipython-input-7-9200ffefbbab>\u001b[0m in \u001b[0;36m<module>\u001b[0;34m\u001b[0m\n\u001b[0;32m----> 1\u001b[0;31m \u001b[0mplt\u001b[0m\u001b[0;34m.\u001b[0m\u001b[0mscatter\u001b[0m\u001b[0;34m(\u001b[0m\u001b[0mx\u001b[0m\u001b[0;34m,\u001b[0m \u001b[0my\u001b[0m\u001b[0;34m,\u001b[0m  \u001b[0mcolor\u001b[0m\u001b[0;34m=\u001b[0m\u001b[0;34m'gray'\u001b[0m\u001b[0;34m,\u001b[0m \u001b[0ms\u001b[0m \u001b[0;34m=\u001b[0m \u001b[0;36m0.5\u001b[0m\u001b[0;34m)\u001b[0m\u001b[0;34m\u001b[0m\u001b[0;34m\u001b[0m\u001b[0m\n\u001b[0m\u001b[1;32m      2\u001b[0m \u001b[0mplt\u001b[0m\u001b[0;34m.\u001b[0m\u001b[0mtitle\u001b[0m\u001b[0;34m(\u001b[0m\u001b[0;34m'mean vs variance'\u001b[0m\u001b[0;34m)\u001b[0m\u001b[0;34m\u001b[0m\u001b[0;34m\u001b[0m\u001b[0m\n\u001b[1;32m      3\u001b[0m \u001b[0mplt\u001b[0m\u001b[0;34m.\u001b[0m\u001b[0mxlabel\u001b[0m\u001b[0;34m(\u001b[0m\u001b[0;34m'mean'\u001b[0m\u001b[0;34m)\u001b[0m\u001b[0;34m\u001b[0m\u001b[0;34m\u001b[0m\u001b[0m\n\u001b[1;32m      4\u001b[0m \u001b[0mplt\u001b[0m\u001b[0;34m.\u001b[0m\u001b[0mylabel\u001b[0m\u001b[0;34m(\u001b[0m\u001b[0;34m'variance'\u001b[0m\u001b[0;34m)\u001b[0m\u001b[0;34m\u001b[0m\u001b[0;34m\u001b[0m\u001b[0m\n\u001b[1;32m      5\u001b[0m \u001b[0mplt\u001b[0m\u001b[0;34m.\u001b[0m\u001b[0mshow\u001b[0m\u001b[0;34m(\u001b[0m\u001b[0;34m)\u001b[0m\u001b[0;34m\u001b[0m\u001b[0;34m\u001b[0m\u001b[0m\n",
      "\u001b[0;31mNameError\u001b[0m: name 'plt' is not defined"
     ]
    }
   ],
   "source": [
    "plt.scatter(x, y,  color='gray', s = 0.5)\n",
    "plt.title('mean vs variance')\n",
    "plt.xlabel('mean')\n",
    "plt.ylabel('variance')\n",
    "plt.show()"
   ]
  },
  {
   "cell_type": "code",
   "execution_count": null,
   "metadata": {},
   "outputs": [],
   "source": [
    "avg_var(result)"
   ]
  },
  {
   "cell_type": "code",
   "execution_count": null,
   "metadata": {},
   "outputs": [],
   "source": [
    "x_train, x_test, y_train, y_test = train_test_split(x, y, test_size=0.2, random_state=0)\n",
    "regressor = LinearRegression()\n",
    "regressor.fit(x_train, y_train)\n",
    "score = regressor.score(x,y)\n",
    "print('score is', score)\n",
    "print('sigma square is', regressor.intercept_)\n",
    "print('k is',regressor.coef_)\n",
    "sigma = regressor.intercept_ \n",
    "k = regressor.coef_\n",
    "#var = k*mean + sigma^2"
   ]
  },
  {
   "cell_type": "code",
   "execution_count": null,
   "metadata": {},
   "outputs": [],
   "source": [
    "y_pred = regressor.predict(x_test)"
   ]
  },
  {
   "cell_type": "code",
   "execution_count": null,
   "metadata": {},
   "outputs": [],
   "source": [
    "plt.scatter(x_test, y_test,  color='gray',s = 1)\n",
    "plt.plot(x_test, y_pred, color='red', linewidth=2)\n",
    "plt.title('mean vs variance_test')\n",
    "plt.xlabel('mean')\n",
    "plt.ylabel('variance')\n",
    "plt.show()"
   ]
  },
  {
   "cell_type": "markdown",
   "metadata": {},
   "source": [
    "# normalize+clip (0,1)"
   ]
  },
  {
   "cell_type": "code",
   "execution_count": null,
   "metadata": {},
   "outputs": [],
   "source": [
    "result = np.array(result)\n",
    "max = np.max(result)\n",
    "print(max) #if it is 1023 then it is 10 byte"
   ]
  },
  {
   "cell_type": "code",
   "execution_count": null,
   "metadata": {},
   "outputs": [],
   "source": [
    "result = [(x-64)/1023 for x in result]\n",
    "result = np.clip(result,0,1)"
   ]
  },
  {
   "cell_type": "code",
   "execution_count": null,
   "metadata": {},
   "outputs": [],
   "source": []
  }
 ],
 "metadata": {
  "kernelspec": {
   "display_name": "Python 3",
   "language": "python",
   "name": "python3"
  },
  "language_info": {
   "codemirror_mode": {
    "name": "ipython",
    "version": 3
   },
   "file_extension": ".py",
   "mimetype": "text/x-python",
   "name": "python",
   "nbconvert_exporter": "python",
   "pygments_lexer": "ipython3",
   "version": "3.7.3"
  }
 },
 "nbformat": 4,
 "nbformat_minor": 4
}
